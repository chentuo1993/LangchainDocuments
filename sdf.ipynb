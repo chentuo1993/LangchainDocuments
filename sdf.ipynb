{
 "cells": [
  {
   "cell_type": "code",
   "execution_count": 1,
   "metadata": {},
   "outputs": [],
   "source": [
    "import rutils"
   ]
  },
  {
   "cell_type": "code",
   "execution_count": 2,
   "metadata": {},
   "outputs": [],
   "source": [
    "rutils.memento()  # use memento to authenticate if it exists\n"
   ]
  },
  {
   "cell_type": "code",
   "execution_count": 3,
   "metadata": {},
   "outputs": [],
   "source": [
    "host = \"cmedge003.usmsc18.pie.apple.com\"\n",
    "conn = rutils.RemoteFSHook(host)"
   ]
  },
  {
   "cell_type": "code",
   "execution_count": null,
   "metadata": {},
   "outputs": [],
   "source": [
    "host = \"cmedge003.usmsc18.pie.apple.com\"\n",
    "conn = rutils.RemoteFSHook(host)"
   ]
  },
  {
   "cell_type": "code",
   "execution_count": 4,
   "metadata": {},
   "outputs": [
    {
     "data": {
      "text/plain": [
       "PosixPath('/srv/home/tchen47')"
      ]
     },
     "execution_count": 4,
     "metadata": {},
     "output_type": "execute_result"
    }
   ],
   "source": [
    "conn.home"
   ]
  },
  {
   "cell_type": "code",
   "execution_count": 5,
   "metadata": {},
   "outputs": [
    {
     "data": {
      "text/plain": [
       "<Result cmd='tmux kill-session -t test' exited=0>"
      ]
     },
     "execution_count": 5,
     "metadata": {},
     "output_type": "execute_result"
    }
   ],
   "source": [
    "conn.tmux_run_command(command=\"ls -l ~/\", session_name=\"test\")\n",
    "conn.tmux_kill_session(\"test\")"
   ]
  },
  {
   "cell_type": "code",
   "execution_count": 6,
   "metadata": {},
   "outputs": [],
   "source": [
    "html = \"<h1>Test report</h1>\"\n",
    "rutils.send_email_message(\n",
    "    from_email=\"Test Report <no-reply@apple.com>\",\n",
    "    to_emails=[\"tchen47@apple.com\"],\n",
    "    subject=\"Test report\",\n",
    "    content=html,\n",
    ")"
   ]
  },
  {
   "cell_type": "code",
   "execution_count": null,
   "metadata": {},
   "outputs": [],
   "source": [
    "scp -r usmsc18-3:/srv/home/tchen47/HLB_fixWindow_trial_raw_data_test.csv ~/Desktop/local_filename/"
   ]
  },
  {
   "cell_type": "code",
   "execution_count": 11,
   "metadata": {},
   "outputs": [
    {
     "data": {
      "text/plain": [
       "PosixPath('/Users/tuochen/Desktop/HLB_fixWindow_trial_raw_data_test.csv')"
      ]
     },
     "execution_count": 11,
     "metadata": {},
     "output_type": "execute_result"
    }
   ],
   "source": [
    "conn.download(\"/srv/home/tchen47/HLB_fixWindow_trial_raw_data_test.csv\", \"~/Desktop\")"
   ]
  },
  {
   "cell_type": "code",
   "execution_count": 12,
   "metadata": {},
   "outputs": [
    {
     "ename": "NameError",
     "evalue": "name 'out' is not defined",
     "output_type": "error",
     "traceback": [
      "\u001b[0;31m---------------------------------------------------------------------------\u001b[0m",
      "\u001b[0;31mNameError\u001b[0m                                 Traceback (most recent call last)",
      "\u001b[1;32m/Users/tuochen/Engineering/sdf.ipynb Cell 10\u001b[0m in \u001b[0;36m<cell line: 19>\u001b[0;34m()\u001b[0m\n\u001b[1;32m     <a href='vscode-notebook-cell:/Users/tuochen/Engineering/sdf.ipynb#X12sZmlsZQ%3D%3D?line=13'>14</a>\u001b[0m rutils\u001b[39m.\u001b[39mpython_sensor(func\u001b[39m=\u001b[39mmy_func)\n\u001b[1;32m     <a href='vscode-notebook-cell:/Users/tuochen/Engineering/sdf.ipynb#X12sZmlsZQ%3D%3D?line=14'>15</a>\u001b[0m \u001b[39m# 15:30:00 : INFO : Poking callable: my_func\u001b[39;00m\n\u001b[1;32m     <a href='vscode-notebook-cell:/Users/tuochen/Engineering/sdf.ipynb#X12sZmlsZQ%3D%3D?line=15'>16</a>\u001b[0m \u001b[39m# 15:30:00 : INFO : Sleeping for 60 seconds\u001b[39;00m\n\u001b[1;32m     <a href='vscode-notebook-cell:/Users/tuochen/Engineering/sdf.ipynb#X12sZmlsZQ%3D%3D?line=16'>17</a>\u001b[0m \u001b[39m# 15:31:00 : INFO : Poking callable: my_func\u001b[39;00m\n\u001b[1;32m     <a href='vscode-notebook-cell:/Users/tuochen/Engineering/sdf.ipynb#X12sZmlsZQ%3D%3D?line=17'>18</a>\u001b[0m \u001b[39m# 15:31:00 : INFO : Success criteria met. Exiting.\u001b[39;00m\n\u001b[0;32m---> <a href='vscode-notebook-cell:/Users/tuochen/Engineering/sdf.ipynb#X12sZmlsZQ%3D%3D?line=18'>19</a>\u001b[0m \u001b[39mprint\u001b[39m(out)\n",
      "\u001b[0;31mNameError\u001b[0m: name 'out' is not defined"
     ]
    }
   ],
   "source": [
    "import datetime\n",
    "import rutils\n",
    "\n",
    "end_date = datetime.datetime.utcnow() + datetime.timedelta(seconds=30)\n",
    "\n",
    "def my_func():\n",
    "    \"\"\"Returns true after it reaches the end_date in 30 seconds.\"\"\"\n",
    "    now = datetime.datetime.utcnow()\n",
    "    if now >= end_date:\n",
    "        return rutils.PokeReturnValue(True, \"Finished\")\n",
    "    else:\n",
    "        return rutils.PokeReturnValue(False, \"Waiting\")\n",
    "\n",
    "rutils.python_sensor(func=my_func)\n",
    "# 15:30:00 : INFO : Poking callable: my_func\n",
    "# 15:30:00 : INFO : Sleeping for 60 seconds\n",
    "# 15:31:00 : INFO : Poking callable: my_func\n",
    "# 15:31:00 : INFO : Success criteria met. Exiting.\n",
    "print(out)  # Finished"
   ]
  },
  {
   "cell_type": "code",
   "execution_count": 13,
   "metadata": {},
   "outputs": [],
   "source": [
    "import logging\n",
    "from pathlib import Path\n",
    "from rocketry.conds import after_success, every\n",
    "import rutils"
   ]
  },
  {
   "cell_type": "code",
   "execution_count": 14,
   "metadata": {},
   "outputs": [],
   "source": [
    "log_file = Path(\"./logs/rutils.log\")\n",
    "log_file.parent.mkdir(exist_ok=True, parents=True)\n",
    "logging.basicConfig(\n",
    "    level=logging.DEBUG,\n",
    "    format=\"%(asctime)s | %(name)s | %(levelname)s | %(message)s\",\n",
    "    handlers=[logging.FileHandler(log_file), logging.StreamHandler()],\n",
    ")"
   ]
  },
  {
   "cell_type": "code",
   "execution_count": 15,
   "metadata": {},
   "outputs": [],
   "source": [
    "scheduler = rutils.Scheduler()"
   ]
  },
  {
   "cell_type": "code",
   "execution_count": 16,
   "metadata": {},
   "outputs": [],
   "source": [
    "@scheduler.task(start_cond=every(\"30 seconds\"))\n",
    "def start():\n",
    "    logging.info(f\"Starting stage 1\")"
   ]
  },
  {
   "cell_type": "code",
   "execution_count": 17,
   "metadata": {},
   "outputs": [],
   "source": [
    "@scheduler.task(start_cond=after_success(start) | every(\"10 seconds\"))\n",
    "def polling():\n",
    "    logging.info(\"Polling\")"
   ]
  },
  {
   "cell_type": "code",
   "execution_count": 18,
   "metadata": {},
   "outputs": [],
   "source": [
    "from pathlib import Path\n",
    "import rutils\n",
    "\n",
    "host = \"cmedge003.usmsc18.pie.apple.com\"\n",
    "run_id = \"my-script\"\n",
    "local_file = Path(\"./script.scala\")"
   ]
  },
  {
   "cell_type": "code",
   "execution_count": 19,
   "metadata": {},
   "outputs": [],
   "source": [
    "rutils.memento()\n",
    "conn = rutils.RemoteFSHook(host)\n",
    "spark = rutils.SparkOperator(conn=conn)"
   ]
  },
  {
   "cell_type": "code",
   "execution_count": 20,
   "metadata": {},
   "outputs": [
    {
     "ename": "FileNotFoundError",
     "evalue": "File script.scala does not exist",
     "output_type": "error",
     "traceback": [
      "\u001b[0;31m---------------------------------------------------------------------------\u001b[0m",
      "\u001b[0;31mFileNotFoundError\u001b[0m                         Traceback (most recent call last)",
      "\u001b[1;32m/Users/tuochen/Engineering/sdf.ipynb Cell 18\u001b[0m in \u001b[0;36m<cell line: 1>\u001b[0;34m()\u001b[0m\n\u001b[0;32m----> <a href='vscode-notebook-cell:/Users/tuochen/Engineering/sdf.ipynb#X23sZmlsZQ%3D%3D?line=0'>1</a>\u001b[0m info \u001b[39m=\u001b[39m spark\u001b[39m.\u001b[39;49mrun(\n\u001b[1;32m      <a href='vscode-notebook-cell:/Users/tuochen/Engineering/sdf.ipynb#X23sZmlsZQ%3D%3D?line=1'>2</a>\u001b[0m     local_file\u001b[39m=\u001b[39;49mlocal_file,\n\u001b[1;32m      <a href='vscode-notebook-cell:/Users/tuochen/Engineering/sdf.ipynb#X23sZmlsZQ%3D%3D?line=2'>3</a>\u001b[0m     run_id\u001b[39m=\u001b[39;49mrun_id, \n\u001b[1;32m      <a href='vscode-notebook-cell:/Users/tuochen/Engineering/sdf.ipynb#X23sZmlsZQ%3D%3D?line=3'>4</a>\u001b[0m     \u001b[39m# properties are saved to a file on the remote machine and can be \u001b[39;49;00m\n\u001b[1;32m      <a href='vscode-notebook-cell:/Users/tuochen/Engineering/sdf.ipynb#X23sZmlsZQ%3D%3D?line=4'>5</a>\u001b[0m     \u001b[39m# read by the script\u001b[39;49;00m\n\u001b[1;32m      <a href='vscode-notebook-cell:/Users/tuochen/Engineering/sdf.ipynb#X23sZmlsZQ%3D%3D?line=5'>6</a>\u001b[0m     properties\u001b[39m=\u001b[39;49m\u001b[39mdict\u001b[39;49m(\n\u001b[1;32m      <a href='vscode-notebook-cell:/Users/tuochen/Engineering/sdf.ipynb#X23sZmlsZQ%3D%3D?line=6'>7</a>\u001b[0m         start_date\u001b[39m=\u001b[39;49m\u001b[39m\"\u001b[39;49m\u001b[39m2022-11-21\u001b[39;49m\u001b[39m\"\u001b[39;49m,\n\u001b[1;32m      <a href='vscode-notebook-cell:/Users/tuochen/Engineering/sdf.ipynb#X23sZmlsZQ%3D%3D?line=7'>8</a>\u001b[0m         end_date\u001b[39m=\u001b[39;49m\u001b[39m\"\u001b[39;49m\u001b[39m2022-11-28\u001b[39;49m\u001b[39m\"\u001b[39;49m\n\u001b[1;32m      <a href='vscode-notebook-cell:/Users/tuochen/Engineering/sdf.ipynb#X23sZmlsZQ%3D%3D?line=8'>9</a>\u001b[0m     ), \n\u001b[1;32m     <a href='vscode-notebook-cell:/Users/tuochen/Engineering/sdf.ipynb#X23sZmlsZQ%3D%3D?line=9'>10</a>\u001b[0m     spark_binary\u001b[39m=\u001b[39;49m\u001b[39m\"\u001b[39;49m\u001b[39mspark.shell2\u001b[39;49m\u001b[39m\"\u001b[39;49m\n\u001b[1;32m     <a href='vscode-notebook-cell:/Users/tuochen/Engineering/sdf.ipynb#X23sZmlsZQ%3D%3D?line=10'>11</a>\u001b[0m )\n",
      "File \u001b[0;32m~/opt/anaconda3/lib/python3.9/site-packages/rutils/spark_operator.py:109\u001b[0m, in \u001b[0;36mSparkOperator.run\u001b[0;34m(self, local_file, run_id, properties, spark_binary)\u001b[0m\n\u001b[1;32m    107\u001b[0m local_file \u001b[39m=\u001b[39m Path(local_file)\n\u001b[1;32m    108\u001b[0m \u001b[39mif\u001b[39;00m \u001b[39mnot\u001b[39;00m local_file\u001b[39m.\u001b[39mexists():\n\u001b[0;32m--> 109\u001b[0m     \u001b[39mraise\u001b[39;00m \u001b[39mFileNotFoundError\u001b[39;00m(\u001b[39mf\u001b[39m\u001b[39m\"\u001b[39m\u001b[39mFile \u001b[39m\u001b[39m{\u001b[39;00mlocal_file\u001b[39m}\u001b[39;00m\u001b[39m does not exist\u001b[39m\u001b[39m\"\u001b[39m)\n\u001b[1;32m    111\u001b[0m \u001b[39mif\u001b[39;00m \u001b[39mnot\u001b[39;00m \u001b[39misinstance\u001b[39m(properties, \u001b[39mdict\u001b[39m):\n\u001b[1;32m    112\u001b[0m     \u001b[39mraise\u001b[39;00m \u001b[39mValueError\u001b[39;00m(\u001b[39m\"\u001b[39m\u001b[39mconfig must be a dictionary\u001b[39m\u001b[39m\"\u001b[39m)\n",
      "\u001b[0;31mFileNotFoundError\u001b[0m: File script.scala does not exist"
     ]
    }
   ],
   "source": [
    "info = spark.run(\n",
    "    local_file=local_file,\n",
    "    run_id=run_id, \n",
    "    # properties are saved to a file on the remote machine and can be \n",
    "    # read by the script\n",
    "    properties=dict(\n",
    "        start_date=\"2022-11-21\",\n",
    "        end_date=\"2022-11-28\"\n",
    "    ), \n",
    "    spark_binary=\"spark.shell2\"\n",
    ")"
   ]
  },
  {
   "cell_type": "code",
   "execution_count": 21,
   "metadata": {},
   "outputs": [],
   "source": [
    "import logging\n",
    "from pathlib import Path\n",
    "import datetime\n",
    "import rutils\n",
    "\n",
    "rutils.memento()\n",
    "\n",
    "log_file = Path(\"./logs/rutils.log\")\n",
    "log_file.parent.mkdir(exist_ok=True, parents=True)\n",
    "logging.basicConfig(\n",
    "    level=logging.DEBUG,\n",
    "    format=\"%(asctime)s | %(name)s | %(levelname)s | %(message)s\",\n",
    "    handlers=[logging.FileHandler(log_file), logging.StreamHandler()],\n",
    ")"
   ]
  },
  {
   "cell_type": "code",
   "execution_count": 22,
   "metadata": {},
   "outputs": [],
   "source": [
    "host = \"cmedge003.usmsc18.pie.apple.com\"\n",
    "conn = rutils.RemoteFSHook(host)\n",
    "hdfs = rutils.RemoteHDFSHook(conn=conn)\n",
    "spark = rutils.SparkOperator(conn=conn)"
   ]
  },
  {
   "cell_type": "code",
   "execution_count": 23,
   "metadata": {},
   "outputs": [],
   "source": [
    "hdfs_output_dir = Path(\"/user/arahman22/weather_data_monitoring/raw_data.parquet/\")\n",
    "hdfs_output_file = hdfs_output_dir / \"{date}.parquet\""
   ]
  },
  {
   "cell_type": "code",
   "execution_count": 24,
   "metadata": {},
   "outputs": [],
   "source": [
    "days = 10\n",
    "start_date = datetime.date(2023, 1, 10)\n",
    "backfill_dates = [start_date + datetime.timedelta(days=i) for i in range(days)]"
   ]
  },
  {
   "cell_type": "code",
   "execution_count": 25,
   "metadata": {},
   "outputs": [],
   "source": [
    "def date_file_exists(date: datetime.datetime) -> bool:\n",
    "    file = str(hdfs_output_file).format(date=date)\n",
    "    return rutils.PokeReturnValue(\n",
    "        is_done=hdfs.exists(file), \n",
    "        value=file\n",
    "    )"
   ]
  },
  {
   "cell_type": "code",
   "execution_count": null,
   "metadata": {},
   "outputs": [],
   "source": []
  }
 ],
 "metadata": {
  "kernelspec": {
   "display_name": "Python 3.9.12 ('base')",
   "language": "python",
   "name": "python3"
  },
  "language_info": {
   "codemirror_mode": {
    "name": "ipython",
    "version": 3
   },
   "file_extension": ".py",
   "mimetype": "text/x-python",
   "name": "python",
   "nbconvert_exporter": "python",
   "pygments_lexer": "ipython3",
   "version": "3.9.12"
  },
  "orig_nbformat": 4,
  "vscode": {
   "interpreter": {
    "hash": "707d4661e4d3997efd050458d9316edae72bb454b3090d3cb2ae6b3dcedde1c0"
   }
  }
 },
 "nbformat": 4,
 "nbformat_minor": 2
}
